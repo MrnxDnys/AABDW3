{
 "cells": [
  {
   "cell_type": "code",
   "execution_count": 1,
   "metadata": {},
   "outputs": [],
   "source": [
    "import threading\n",
    "\n",
    "# Helper thread to avoid the Spark StreamingContext from blocking Jupyter\n",
    "        \n",
    "class StreamingThread(threading.Thread):\n",
    "    def __init__(self, ssc):\n",
    "        super().__init__()\n",
    "        self.ssc = ssc\n",
    "    def run(self):\n",
    "        self.ssc.start()\n",
    "        self.ssc.awaitTermination()\n",
    "    def stop(self):\n",
    "        print('----- Stopping... this may take a few seconds -----')\n",
    "        self.ssc.stop(stopSparkContext=False, stopGraceFully=True)"
   ]
  },
  {
   "cell_type": "code",
   "execution_count": 2,
   "metadata": {
    "scrolled": true
   },
   "outputs": [
    {
     "data": {
      "text/html": [
       "\n",
       "        <div>\n",
       "            <p><b>SparkContext</b></p>\n",
       "\n",
       "            <p><a href=\"http://DESKTOP-2KLDVLD:4040\">Spark UI</a></p>\n",
       "\n",
       "            <dl>\n",
       "              <dt>Version</dt>\n",
       "                <dd><code>v3.2.1</code></dd>\n",
       "              <dt>Master</dt>\n",
       "                <dd><code>local[*]</code></dd>\n",
       "              <dt>AppName</dt>\n",
       "                <dd><code>PySparkShell</code></dd>\n",
       "            </dl>\n",
       "        </div>\n",
       "        "
      ],
      "text/plain": [
       "<SparkContext master=local[*] appName=PySparkShell>"
      ]
     },
     "execution_count": 2,
     "metadata": {},
     "output_type": "execute_result"
    }
   ],
   "source": [
    "sc"
   ]
  },
  {
   "cell_type": "code",
   "execution_count": 3,
   "metadata": {},
   "outputs": [
    {
     "data": {
      "text/html": [
       "\n",
       "            <div>\n",
       "                <p><b>SparkSession - hive</b></p>\n",
       "                \n",
       "        <div>\n",
       "            <p><b>SparkContext</b></p>\n",
       "\n",
       "            <p><a href=\"http://DESKTOP-2KLDVLD:4040\">Spark UI</a></p>\n",
       "\n",
       "            <dl>\n",
       "              <dt>Version</dt>\n",
       "                <dd><code>v3.2.1</code></dd>\n",
       "              <dt>Master</dt>\n",
       "                <dd><code>local[*]</code></dd>\n",
       "              <dt>AppName</dt>\n",
       "                <dd><code>PySparkShell</code></dd>\n",
       "            </dl>\n",
       "        </div>\n",
       "        \n",
       "            </div>\n",
       "        "
      ],
      "text/plain": [
       "<pyspark.sql.session.SparkSession at 0x10ca5262430>"
      ]
     },
     "execution_count": 3,
     "metadata": {},
     "output_type": "execute_result"
    }
   ],
   "source": [
    "spark"
   ]
  },
  {
   "cell_type": "code",
   "execution_count": 4,
   "metadata": {},
   "outputs": [],
   "source": [
    "from pyspark.streaming import StreamingContext\n",
    "from pyspark.sql import Row\n",
    "from pyspark.sql.functions import udf, struct, array, col, lit\n",
    "from pyspark.sql.types import StringType"
   ]
  },
  {
   "cell_type": "code",
   "execution_count": 5,
   "metadata": {},
   "outputs": [],
   "source": [
    "globals()['models_loaded'] = False\n",
    "globals()['my_model'] = None\n",
    "\n",
    "# Toy predict function. Normally you'd use your loaded globals()['my_model'] here\n",
    "def predict(df):\n",
    "    return 'predicted-name-of-channel'\n",
    "\n",
    "predict_udf = udf(predict, StringType())\n",
    "\n",
    "def process(time, rdd):\n",
    "    if rdd.isEmpty():\n",
    "        return\n",
    "    \n",
    "    print(\"========= %s =========\" % str(time))\n",
    "    \n",
    "    # Convert to data frame\n",
    "    df = spark.read.json(rdd)\n",
    "    df.show()\n",
    "    \n",
    "    # Utilize our predict function\n",
    "    df_withpreds = df.withColumn(\"pred\", predict_udf(\n",
    "        struct([df[x] for x in df.columns])\n",
    "    ))\n",
    "    df_withpreds.show()\n",
    "    \n",
    "    # Normally, you wouldn't use a UDF (User Defined Function) Python function to predict as we did here (you can)\n",
    "    # but an MLlib model you've built and saved with Spark\n",
    "    # In this case, you need to prevent loading your model in every call to \"process\" as follows:\n",
    "    \n",
    "    # Load in the model if not yet loaded:\n",
    "    if not globals()['models_loaded']:\n",
    "        # load in your models here\n",
    "        globals()['my_model'] = '***' # Replace '***' with:    [...].load('my_logistic_regression')\n",
    "        globals()['models_loaded'] = True\n",
    "        \n",
    "    # And then predict using the loaded model: \n",
    "    # df_result = globals()['my_model'].transform(df)\n",
    "    # df_result.show()"
   ]
  },
  {
   "cell_type": "code",
   "execution_count": 6,
   "metadata": {},
   "outputs": [],
   "source": [
    "ssc = StreamingContext(sc, 10)"
   ]
  },
  {
   "cell_type": "code",
   "execution_count": 7,
   "metadata": {
    "scrolled": true
   },
   "outputs": [],
   "source": [
    "lines = ssc.socketTextStream(\"localhost\", 8080)\n",
    "lines.foreachRDD(process)"
   ]
  },
  {
   "cell_type": "code",
   "execution_count": 8,
   "metadata": {
    "scrolled": false
   },
   "outputs": [
    {
     "name": "stdout",
     "output_type": "stream",
     "text": [
      "========= 2022-04-03 21:09:00 =========\n",
      "+-------+--------------------+--------------------+--------------+\n",
      "|channel|            datetime|             message|      username|\n",
      "+-------+--------------------+--------------------+--------------+\n",
      "| #lirik|2022-04-03T19:08:...|        Crypod ratFR|    hazelnutsi|\n",
      "| #lirik|2022-04-03T19:08:...|Pog nibblegar I c...| mellow_plexus|\n",
      "| #lirik|2022-04-03T19:08:...|                KEKW|    spacemangt|\n",
      "| #lirik|2022-04-03T19:08:...|KEKW\\r\\n:kaksoisp...|  buffaloo7kid|\n",
      "| #lirik|2022-04-03T19:08:...|the zero for sure...|        dman32|\n",
      "| #lirik|2022-04-03T19:08:...|LOL\\r\\n:arjentum4...|      zalendir|\n",
      "| #lirik|2022-04-03T19:08:...|KEKW 󠀀\\r\\n:big_f...|      majorasw|\n",
      "| #lirik|2022-04-03T19:08:...|  widepeepoHappy fat|    alastordmc|\n",
      "| #lirik|2022-04-03T19:08:...|                LULW|    superson1c|\n",
      "| #lirik|2022-04-03T19:08:...|       3x KEKW combo|      fossabot|\n",
      "| #lirik|2022-04-03T19:08:...|KEKW\\r\\n:plouffel...|quackmaster123|\n",
      "| #lirik|2022-04-03T19:08:...|    YESSSSSS CUBZERO|   agent00nola|\n",
      "| #lirik|2022-04-03T19:08:...|KEKW\\r\\n:theos75!...|     sebonarro|\n",
      "| #lirik|2022-04-03T19:08:...|Lol\\r\\n:yokaiarti...|   crashnash32|\n",
      "| #lirik|2022-04-03T19:08:...|KEKW\\r\\n:coderhog...|   paedestrian|\n",
      "| #lirik|2022-04-03T19:08:...|           TRUE KEKW|         timey|\n",
      "| #lirik|2022-04-03T19:08:...|KEKW\\r\\n:clarcife...| newmanagement|\n",
      "| #lirik|2022-04-03T19:08:...|                KEKW|     notmedown|\n",
      "| #lirik|2022-04-03T19:08:...|                KEKW|    khangaroo7|\n",
      "| #lirik|2022-04-03T19:08:...|pussymon is urs\\r...|        mrcyer|\n",
      "+-------+--------------------+--------------------+--------------+\n",
      "only showing top 20 rows\n",
      "\n"
     ]
    }
   ],
   "source": [
    "ssc_t = StreamingThread(ssc)\n",
    "ssc_t.start()"
   ]
  },
  {
   "cell_type": "code",
   "execution_count": 9,
   "metadata": {
    "scrolled": false
   },
   "outputs": [
    {
     "name": "stdout",
     "output_type": "stream",
     "text": [
      "----- Stopping... this may take a few seconds -----\n",
      "+-------+--------------------+--------------------+--------------+--------------------+\n",
      "|channel|            datetime|             message|      username|                pred|\n",
      "+-------+--------------------+--------------------+--------------+--------------------+\n",
      "| #lirik|2022-04-03T19:08:...|        Crypod ratFR|    hazelnutsi|predicted-name-of...|\n",
      "| #lirik|2022-04-03T19:08:...|Pog nibblegar I c...| mellow_plexus|predicted-name-of...|\n",
      "| #lirik|2022-04-03T19:08:...|                KEKW|    spacemangt|predicted-name-of...|\n",
      "| #lirik|2022-04-03T19:08:...|KEKW\\r\\n:kaksoisp...|  buffaloo7kid|predicted-name-of...|\n",
      "| #lirik|2022-04-03T19:08:...|the zero for sure...|        dman32|predicted-name-of...|\n",
      "| #lirik|2022-04-03T19:08:...|LOL\\r\\n:arjentum4...|      zalendir|predicted-name-of...|\n",
      "| #lirik|2022-04-03T19:08:...|KEKW 󠀀\\r\\n:big_f...|      majorasw|predicted-name-of...|\n",
      "| #lirik|2022-04-03T19:08:...|  widepeepoHappy fat|    alastordmc|predicted-name-of...|\n",
      "| #lirik|2022-04-03T19:08:...|                LULW|    superson1c|predicted-name-of...|\n",
      "| #lirik|2022-04-03T19:08:...|       3x KEKW combo|      fossabot|predicted-name-of...|\n",
      "| #lirik|2022-04-03T19:08:...|KEKW\\r\\n:plouffel...|quackmaster123|predicted-name-of...|\n",
      "| #lirik|2022-04-03T19:08:...|    YESSSSSS CUBZERO|   agent00nola|predicted-name-of...|\n",
      "| #lirik|2022-04-03T19:08:...|KEKW\\r\\n:theos75!...|     sebonarro|predicted-name-of...|\n",
      "| #lirik|2022-04-03T19:08:...|Lol\\r\\n:yokaiarti...|   crashnash32|predicted-name-of...|\n",
      "| #lirik|2022-04-03T19:08:...|KEKW\\r\\n:coderhog...|   paedestrian|predicted-name-of...|\n",
      "| #lirik|2022-04-03T19:08:...|           TRUE KEKW|         timey|predicted-name-of...|\n",
      "| #lirik|2022-04-03T19:08:...|KEKW\\r\\n:clarcife...| newmanagement|predicted-name-of...|\n",
      "| #lirik|2022-04-03T19:08:...|                KEKW|     notmedown|predicted-name-of...|\n",
      "| #lirik|2022-04-03T19:08:...|                KEKW|    khangaroo7|predicted-name-of...|\n",
      "| #lirik|2022-04-03T19:08:...|pussymon is urs\\r...|        mrcyer|predicted-name-of...|\n",
      "+-------+--------------------+--------------------+--------------+--------------------+\n",
      "only showing top 20 rows\n",
      "\n",
      "========= 2022-04-03 21:09:10 =========\n",
      "+-------+--------------------+--------------------+----------------+\n",
      "|channel|            datetime|             message|        username|\n",
      "+-------+--------------------+--------------------+----------------+\n",
      "| #lirik|2022-04-03T19:08:...|KEKW\\r\\n:reshi!re...|        elsackoo|\n",
      "| #lirik|2022-04-03T19:08:...|         LUL IceCold|       mariospsp|\n",
      "| #lirik|2022-04-03T19:08:...|OMEGALUL\\r\\n:dawi...|     poepvankaas|\n",
      "| #lirik|2022-04-03T19:08:...|                HAHA|      ripcuisine|\n",
      "| #lirik|2022-04-03T19:08:...|      Cubzero Pepega|    salahadin_pl|\n",
      "| #lirik|2022-04-03T19:09:...|         LUL LUL LUL|      key_drops_|\n",
      "| #lirik|2022-04-03T19:09:...|                KEKW|    buenotimeout|\n",
      "| #lirik|2022-04-03T19:08:...|            peepoFat|   ballsonfire__|\n",
      "| #lirik|2022-04-03T19:09:...|      widepeepoHappy|         apupupu|\n",
      "| #lirik|2022-04-03T19:09:...|HE THINKS YOUR A ...| dezbryantdagoat|\n",
      "| #lirik|2022-04-03T19:09:...|           hahahahah|           jowzu|\n",
      "| #lirik|2022-04-03T19:09:...|                 LUL|   ninjakitty131|\n",
      "| #lirik|2022-04-03T19:09:...|         LUL LUL LUL|        uae_rock|\n",
      "| #lirik|2022-04-03T19:09:...|              ratJAM|      alastordmc|\n",
      "| #lirik|2022-04-03T19:09:...|scuffed bulbasaur...|       ryynosaur|\n",
      "| #lirik|2022-04-03T19:09:...|LUL\\r\\n:deathblow...|            voic|\n",
      "| #lirik|2022-04-03T19:09:...|            YES KEKW|     georgemacaa|\n",
      "| #lirik|2022-04-03T19:09:...|                 Pog|       locusdank|\n",
      "| #lirik|2022-04-03T19:09:...|ratJAM ratJAM rat...|swoosheverything|\n",
      "| #lirik|2022-04-03T19:09:...|           KEKW KEKW|      plouffelul|\n",
      "+-------+--------------------+--------------------+----------------+\n",
      "only showing top 20 rows\n",
      "\n",
      "+-------+--------------------+--------------------+----------------+--------------------+\n",
      "|channel|            datetime|             message|        username|                pred|\n",
      "+-------+--------------------+--------------------+----------------+--------------------+\n",
      "| #lirik|2022-04-03T19:08:...|KEKW\\r\\n:reshi!re...|        elsackoo|predicted-name-of...|\n",
      "| #lirik|2022-04-03T19:08:...|         LUL IceCold|       mariospsp|predicted-name-of...|\n",
      "| #lirik|2022-04-03T19:08:...|OMEGALUL\\r\\n:dawi...|     poepvankaas|predicted-name-of...|\n",
      "| #lirik|2022-04-03T19:08:...|                HAHA|      ripcuisine|predicted-name-of...|\n",
      "| #lirik|2022-04-03T19:08:...|      Cubzero Pepega|    salahadin_pl|predicted-name-of...|\n",
      "| #lirik|2022-04-03T19:09:...|         LUL LUL LUL|      key_drops_|predicted-name-of...|\n",
      "| #lirik|2022-04-03T19:09:...|                KEKW|    buenotimeout|predicted-name-of...|\n",
      "| #lirik|2022-04-03T19:08:...|            peepoFat|   ballsonfire__|predicted-name-of...|\n",
      "| #lirik|2022-04-03T19:09:...|      widepeepoHappy|         apupupu|predicted-name-of...|\n",
      "| #lirik|2022-04-03T19:09:...|HE THINKS YOUR A ...| dezbryantdagoat|predicted-name-of...|\n",
      "| #lirik|2022-04-03T19:09:...|           hahahahah|           jowzu|predicted-name-of...|\n",
      "| #lirik|2022-04-03T19:09:...|                 LUL|   ninjakitty131|predicted-name-of...|\n",
      "| #lirik|2022-04-03T19:09:...|         LUL LUL LUL|        uae_rock|predicted-name-of...|\n",
      "| #lirik|2022-04-03T19:09:...|              ratJAM|      alastordmc|predicted-name-of...|\n",
      "| #lirik|2022-04-03T19:09:...|scuffed bulbasaur...|       ryynosaur|predicted-name-of...|\n",
      "| #lirik|2022-04-03T19:09:...|LUL\\r\\n:deathblow...|            voic|predicted-name-of...|\n",
      "| #lirik|2022-04-03T19:09:...|            YES KEKW|     georgemacaa|predicted-name-of...|\n",
      "| #lirik|2022-04-03T19:09:...|                 Pog|       locusdank|predicted-name-of...|\n",
      "| #lirik|2022-04-03T19:09:...|ratJAM ratJAM rat...|swoosheverything|predicted-name-of...|\n",
      "| #lirik|2022-04-03T19:09:...|           KEKW KEKW|      plouffelul|predicted-name-of...|\n",
      "+-------+--------------------+--------------------+----------------+--------------------+\n",
      "only showing top 20 rows\n",
      "\n",
      "========= 2022-04-03 21:09:20 =========\n",
      "+-------+--------------------+-------+--------------+\n",
      "|channel|            datetime|message|      username|\n",
      "+-------+--------------------+-------+--------------+\n",
      "| #lirik|2022-04-03T19:09:...|    do*|sub1imevisions|\n",
      "| #lirik|2022-04-03T19:09:...|   KEKW| spartacusdoto|\n",
      "+-------+--------------------+-------+--------------+\n",
      "\n",
      "+-------+--------------------+-------+--------------+--------------------+\n",
      "|channel|            datetime|message|      username|                pred|\n",
      "+-------+--------------------+-------+--------------+--------------------+\n",
      "| #lirik|2022-04-03T19:09:...|    do*|sub1imevisions|predicted-name-of...|\n",
      "| #lirik|2022-04-03T19:09:...|   KEKW| spartacusdoto|predicted-name-of...|\n",
      "+-------+--------------------+-------+--------------+--------------------+\n",
      "\n"
     ]
    }
   ],
   "source": [
    "ssc_t.stop()"
   ]
  },
  {
   "cell_type": "code",
   "execution_count": null,
   "metadata": {},
   "outputs": [],
   "source": []
  }
 ],
 "metadata": {
  "kernelspec": {
   "display_name": "Python 3",
   "language": "python",
   "name": "python3"
  },
  "language_info": {
   "codemirror_mode": {
    "name": "ipython",
    "version": 3
   },
   "file_extension": ".py",
   "mimetype": "text/x-python",
   "name": "python",
   "nbconvert_exporter": "python",
   "pygments_lexer": "ipython3",
   "version": "3.8.3"
  },
  "toc": {
   "base_numbering": 1,
   "nav_menu": {},
   "number_sections": true,
   "sideBar": true,
   "skip_h1_title": false,
   "title_cell": "Table of Contents",
   "title_sidebar": "Contents",
   "toc_cell": false,
   "toc_position": {},
   "toc_section_display": true,
   "toc_window_display": false
  }
 },
 "nbformat": 4,
 "nbformat_minor": 2
}
