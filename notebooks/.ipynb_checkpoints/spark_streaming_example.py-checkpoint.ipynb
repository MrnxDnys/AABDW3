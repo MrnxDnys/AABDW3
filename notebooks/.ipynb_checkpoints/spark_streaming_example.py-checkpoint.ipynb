{
 "cells": [
  {
   "cell_type": "code",
   "execution_count": 1,
   "metadata": {},
   "outputs": [],
   "source": [
    "import threading\n",
    "\n",
    "# Helper thread to avoid the Spark StreamingContext from blocking Jupyter\n",
    "        \n",
    "class StreamingThread(threading.Thread):\n",
    "    def __init__(self, ssc):\n",
    "        super().__init__()\n",
    "        self.ssc = ssc\n",
    "    def run(self):\n",
    "        self.ssc.start()\n",
    "        self.ssc.awaitTermination()\n",
    "    def stop(self):\n",
    "        print('----- Stopping... this may take a few seconds -----')\n",
    "        self.ssc.stop(stopSparkContext=False, stopGraceFully=True)"
   ]
  },
  {
   "cell_type": "code",
   "execution_count": 2,
   "metadata": {},
   "outputs": [
    {
     "data": {
      "text/html": [
       "\n",
       "        <div>\n",
       "            <p><b>SparkContext</b></p>\n",
       "\n",
       "            <p><a href=\"http://DESKTOP-2KLDVLD:4042\">Spark UI</a></p>\n",
       "\n",
       "            <dl>\n",
       "              <dt>Version</dt>\n",
       "                <dd><code>v3.2.1</code></dd>\n",
       "              <dt>Master</dt>\n",
       "                <dd><code>local[*]</code></dd>\n",
       "              <dt>AppName</dt>\n",
       "                <dd><code>PySparkShell</code></dd>\n",
       "            </dl>\n",
       "        </div>\n",
       "        "
      ],
      "text/plain": [
       "<SparkContext master=local[*] appName=PySparkShell>"
      ]
     },
     "execution_count": 2,
     "metadata": {},
     "output_type": "execute_result"
    }
   ],
   "source": [
    "sc"
   ]
  },
  {
   "cell_type": "code",
   "execution_count": 3,
   "metadata": {},
   "outputs": [],
   "source": [
    "from pyspark.streaming import StreamingContext"
   ]
  },
  {
   "cell_type": "code",
   "execution_count": 4,
   "metadata": {},
   "outputs": [],
   "source": [
    "ssc = StreamingContext(sc, 10)"
   ]
  },
  {
   "cell_type": "code",
   "execution_count": 5,
   "metadata": {
    "scrolled": true
   },
   "outputs": [],
   "source": [
    "# Connect to localhost:8080 as the stream is being forwarded to a local socket\n",
    "lines = ssc.socketTextStream(\"localhost\", 8080)\n",
    "lines.pprint()"
   ]
  },
  {
   "cell_type": "code",
   "execution_count": 6,
   "metadata": {
    "scrolled": false
   },
   "outputs": [
    {
     "name": "stdout",
     "output_type": "stream",
     "text": [
      "-------------------------------------------\n",
      "Time: 2022-04-03 21:06:20\n",
      "-------------------------------------------\n",
      "{\"datetime\": \"2022-04-03T19:06:18.570682\", \"username\": \"fossabot\", \"channel\": \"#lirik\", \"message\": \"@PantsAre0verrated (03 Apr 2022): Just Chatting, Weird West, Knightfall: A Daring Journey, Coromon\"}\n",
      "{\"datetime\": \"2022-04-03T19:06:18.412666\", \"username\": \"thedew\", \"channel\": \"#lirik\", \"message\": \"Hmm\"}\n",
      "{\"datetime\": \"2022-04-03T19:06:18.254627\", \"username\": \"pantsare0verrated\", \"channel\": \"#lirik\", \"message\": \"!games\"}\n",
      "\n",
      "-------------------------------------------\n",
      "Time: 2022-04-03 21:06:30\n",
      "-------------------------------------------\n",
      "{\"datetime\": \"2022-04-03T19:06:18.884242\", \"username\": \"twotokez\", \"channel\": \"#lirik\", \"message\": \"Coromon lordFR\"}\n",
      "{\"datetime\": \"2022-04-03T19:06:21.762555\", \"username\": \"nero_\", \"channel\": \"#lirik\", \"message\": \"uh\"}\n",
      "{\"datetime\": \"2022-04-03T19:06:23.537039\", \"username\": \"beebzor\", \"channel\": \"#lirik\", \"message\": \"BOOTLEG POKEMON KEKW\"}\n",
      "{\"datetime\": \"2022-04-03T19:06:22.965395\", \"username\": \"eimlur\", \"channel\": \"#lirik\", \"message\": \"PepeFlushed\"}\n",
      "{\"datetime\": \"2022-04-03T19:06:24.402611\", \"username\": \"truee\", \"channel\": \"#lirik\", \"message\": \"uh\"}\n",
      "{\"datetime\": \"2022-04-03T19:06:25.579509\", \"username\": \"alicebreh\", \"channel\": \"#lirik\", \"message\": \"PepeFlushed\"}\n",
      "{\"datetime\": \"2022-04-03T19:06:26.559818\", \"username\": \"seederxd\", \"channel\": \"#lirik\", \"message\": \"Potate-chan yamete FeelsAyayaMan \\ud83d\\uded1\"}\n",
      "{\"datetime\": \"2022-04-03T19:06:26.249583\", \"username\": \"dezbryantdagoat\", \"channel\": \"#lirik\", \"message\": \"measure dick gachiBASS\"}\n",
      "{\"datetime\": \"2022-04-03T19:06:25.895521\", \"username\": \"suspectsz\", \"channel\": \"#lirik\", \"message\": \"measurement gachiHYPER\"}\n",
      "{\"datetime\": \"2022-04-03T19:06:25.737483\", \"username\": \"iambazen\", \"channel\": \"#lirik\", \"message\": \"gachiHYPER\"}\n",
      "...\n",
      "\n"
     ]
    }
   ],
   "source": [
    "ssc_t = StreamingThread(ssc)\n",
    "ssc_t.start()"
   ]
  },
  {
   "cell_type": "code",
   "execution_count": 7,
   "metadata": {},
   "outputs": [
    {
     "name": "stdout",
     "output_type": "stream",
     "text": [
      "----- Stopping... this may take a few seconds -----\n",
      "-------------------------------------------\n",
      "Time: 2022-04-03 21:06:40\n",
      "-------------------------------------------\n",
      "{\"datetime\": \"2022-04-03T19:06:29.624178\", \"username\": \"shiny_shadow_\", \"channel\": \"#lirik\", \"message\": \"gachiHYPER\"}\n",
      "{\"datetime\": \"2022-04-03T19:06:29.466184\", \"username\": \"hexicallive\", \"channel\": \"#lirik\", \"message\": \"Hmmge lets see\"}\n",
      "{\"datetime\": \"2022-04-03T19:06:29.254183\", \"username\": \"sojufresh\", \"channel\": \"#lirik\", \"message\": \"smelling you\"}\n",
      "{\"datetime\": \"2022-04-03T19:06:29.096242\", \"username\": \"br0_0ker\", \"channel\": \"#lirik\", \"message\": \"oh?\"}\n",
      "{\"datetime\": \"2022-04-03T19:06:30.365197\", \"username\": \"thedew\", \"channel\": \"#lirik\", \"message\": \"PepeFlushed\"}\n",
      "{\"datetime\": \"2022-04-03T19:06:30.020787\", \"username\": \"chillyfierce\", \"channel\": \"#lirik\", \"message\": \"oh? gachiHYPER\"}\n",
      "{\"datetime\": \"2022-04-03T19:06:29.782162\", \"username\": \"naturalhighx\", \"channel\": \"#lirik\", \"message\": \"Sussy like what usee?\"}\n",
      "{\"datetime\": \"2022-04-03T19:06:31.467585\", \"username\": \"fossabot\", \"channel\": \"#lirik\", \"message\": \"Mercile1988 just resubscribed for 36 months with Prime Gaming! lirikH\"}\n",
      "{\"datetime\": \"2022-04-03T19:06:30.924892\", \"username\": \"garyayaya\", \"channel\": \"#lirik\", \"message\": \"pokemon LUL\"}\n",
      "{\"datetime\": \"2022-04-03T19:06:32.573528\", \"username\": \"leant\", \"channel\": \"#lirik\", \"message\": \"oh? gachiHYPER\"}\n",
      "...\n",
      "\n",
      "-------------------------------------------\n",
      "Time: 2022-04-03 21:06:50\n",
      "-------------------------------------------\n",
      "\n",
      "-------------------------------------------\n",
      "Time: 2022-04-03 21:07:00\n",
      "-------------------------------------------\n",
      "\n"
     ]
    }
   ],
   "source": [
    "ssc_t.stop()"
   ]
  },
  {
   "cell_type": "code",
   "execution_count": null,
   "metadata": {},
   "outputs": [],
   "source": []
  }
 ],
 "metadata": {
  "kernelspec": {
   "display_name": "Python 3",
   "language": "python",
   "name": "python3"
  },
  "language_info": {
   "codemirror_mode": {
    "name": "ipython",
    "version": 3
   },
   "file_extension": ".py",
   "mimetype": "text/x-python",
   "name": "python",
   "nbconvert_exporter": "python",
   "pygments_lexer": "ipython3",
   "version": "3.8.3"
  },
  "toc": {
   "base_numbering": 1,
   "nav_menu": {},
   "number_sections": true,
   "sideBar": true,
   "skip_h1_title": false,
   "title_cell": "Table of Contents",
   "title_sidebar": "Contents",
   "toc_cell": false,
   "toc_position": {},
   "toc_section_display": true,
   "toc_window_display": false
  }
 },
 "nbformat": 4,
 "nbformat_minor": 2
}
